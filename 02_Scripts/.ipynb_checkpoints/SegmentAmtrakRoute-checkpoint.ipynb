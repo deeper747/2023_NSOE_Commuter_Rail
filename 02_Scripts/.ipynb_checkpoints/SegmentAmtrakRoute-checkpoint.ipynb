{
 "cells": [
  {
   "cell_type": "markdown",
   "id": "9fe277ae",
   "metadata": {},
   "source": [
    "# Graphing Elevation Profile with ArcGIS Python API"
   ]
  },
  {
   "cell_type": "markdown",
   "id": "091e2118",
   "metadata": {},
   "source": [
    "# NC Routes Data Exploration"
   ]
  },
  {
   "cell_type": "code",
   "execution_count": 1,
   "id": "29148300",
   "metadata": {},
   "outputs": [],
   "source": [
    "import arcpy\n",
    "#pip install geopandas\n",
    "import geopandas as gpd"
   ]
  },
  {
   "cell_type": "code",
   "execution_count": 2,
   "id": "124ef364",
   "metadata": {},
   "outputs": [],
   "source": [
    "# Set workspace\n",
    "arcpy.env.workspace = \"../01_Data/01_Source/\"\n",
    "arcpy.env.overwriteOutput = True"
   ]
  },
  {
   "cell_type": "code",
   "execution_count": 3,
   "id": "91652965",
   "metadata": {},
   "outputs": [],
   "source": [
    "nc_tracks_gdf = gpd.read_file(\"../01_Data/02_Processed/Amtrak_Route_NC.shp\")"
   ]
  },
  {
   "cell_type": "code",
   "execution_count": 4,
   "id": "9f680b2e",
   "metadata": {},
   "outputs": [
    {
     "data": {
      "text/html": [
       "<div>\n",
       "<style scoped>\n",
       "    .dataframe tbody tr th:only-of-type {\n",
       "        vertical-align: middle;\n",
       "    }\n",
       "\n",
       "    .dataframe tbody tr th {\n",
       "        vertical-align: top;\n",
       "    }\n",
       "\n",
       "    .dataframe thead th {\n",
       "        text-align: right;\n",
       "    }\n",
       "</style>\n",
       "<table border=\"1\" class=\"dataframe\">\n",
       "  <thead>\n",
       "    <tr style=\"text-align: right;\">\n",
       "      <th></th>\n",
       "      <th>objectid</th>\n",
       "      <th>name</th>\n",
       "      <th>shape_leng</th>\n",
       "      <th>shape_le_1</th>\n",
       "      <th>shape_Le_2</th>\n",
       "      <th>geometry</th>\n",
       "    </tr>\n",
       "  </thead>\n",
       "  <tbody>\n",
       "    <tr>\n",
       "      <th>0</th>\n",
       "      <td>3</td>\n",
       "      <td>Auto Train</td>\n",
       "      <td>1.474024e+06</td>\n",
       "      <td>1.474024e+06</td>\n",
       "      <td>14.082956</td>\n",
       "      <td>MULTILINESTRING ((-79.31281 34.50569, -79.3128...</td>\n",
       "    </tr>\n",
       "    <tr>\n",
       "      <th>1</th>\n",
       "      <td>31</td>\n",
       "      <td>Silver_Service/Palmetto</td>\n",
       "      <td>2.984346e+06</td>\n",
       "      <td>2.984346e+06</td>\n",
       "      <td>29.026557</td>\n",
       "      <td>MULTILINESTRING ((-79.31281 34.50569, -79.3128...</td>\n",
       "    </tr>\n",
       "    <tr>\n",
       "      <th>2</th>\n",
       "      <td>37</td>\n",
       "      <td>Crescent</td>\n",
       "      <td>2.230998e+06</td>\n",
       "      <td>2.230998e+06</td>\n",
       "      <td>22.651323</td>\n",
       "      <td>MULTILINESTRING ((-81.45065 35.16823, -81.4499...</td>\n",
       "    </tr>\n",
       "    <tr>\n",
       "      <th>3</th>\n",
       "      <td>46</td>\n",
       "      <td>Carolinian</td>\n",
       "      <td>0.000000e+00</td>\n",
       "      <td>8.715546e+05</td>\n",
       "      <td>8.745682</td>\n",
       "      <td>MULTILINESTRING ((-78.25935 35.54110, -78.2566...</td>\n",
       "    </tr>\n",
       "    <tr>\n",
       "      <th>4</th>\n",
       "      <td>47</td>\n",
       "      <td>Piedmont</td>\n",
       "      <td>0.000000e+00</td>\n",
       "      <td>2.882651e+05</td>\n",
       "      <td>2.980784</td>\n",
       "      <td>MULTILINESTRING ((-80.82749 35.23796, -80.8273...</td>\n",
       "    </tr>\n",
       "  </tbody>\n",
       "</table>\n",
       "</div>"
      ],
      "text/plain": [
       "   objectid                     name    shape_leng    shape_le_1  shape_Le_2  \\\n",
       "0         3               Auto Train  1.474024e+06  1.474024e+06   14.082956   \n",
       "1        31  Silver_Service/Palmetto  2.984346e+06  2.984346e+06   29.026557   \n",
       "2        37                 Crescent  2.230998e+06  2.230998e+06   22.651323   \n",
       "3        46               Carolinian  0.000000e+00  8.715546e+05    8.745682   \n",
       "4        47                 Piedmont  0.000000e+00  2.882651e+05    2.980784   \n",
       "\n",
       "                                            geometry  \n",
       "0  MULTILINESTRING ((-79.31281 34.50569, -79.3128...  \n",
       "1  MULTILINESTRING ((-79.31281 34.50569, -79.3128...  \n",
       "2  MULTILINESTRING ((-81.45065 35.16823, -81.4499...  \n",
       "3  MULTILINESTRING ((-78.25935 35.54110, -78.2566...  \n",
       "4  MULTILINESTRING ((-80.82749 35.23796, -80.8273...  "
      ]
     },
     "execution_count": 4,
     "metadata": {},
     "output_type": "execute_result"
    }
   ],
   "source": [
    "nc_tracks_gdf.head()"
   ]
  },
  {
   "cell_type": "code",
   "execution_count": 5,
   "id": "03cbf621",
   "metadata": {},
   "outputs": [
    {
     "data": {
      "text/plain": [
       "geopandas.geodataframe.GeoDataFrame"
      ]
     },
     "execution_count": 5,
     "metadata": {},
     "output_type": "execute_result"
    }
   ],
   "source": [
    "mask = (nc_tracks_gdf[\"name\"] == 'Carolinian')\n",
    "carolinian_gdf = nc_tracks_gdf[mask]\n",
    "type(carolinian_gdf)"
   ]
  },
  {
   "cell_type": "markdown",
   "id": "e56dc469",
   "metadata": {},
   "source": [
    "# Drawing profile with arcpy 3D tool"
   ]
  },
  {
   "cell_type": "code",
   "execution_count": 6,
   "id": "5d560908",
   "metadata": {},
   "outputs": [],
   "source": [
    "input_fl = \"../01_Data/02_Processed/carolinian.shp\"\n",
    "profile_tg = \"NC_DEM.tiff\"\n",
    "output_tbl = \"../01_Data/02_Processed/CarolinianProfile.csv\"\n",
    "graphName = \"Carolinian Profile Graph\"                         #The output graph is not supported in Pro (sad)"
   ]
  },
  {
   "cell_type": "code",
   "execution_count": 7,
   "id": "b0f717f3",
   "metadata": {},
   "outputs": [
    {
     "data": {
      "text/html": [
       "<div class='gpresult'><h2>Messages</h2><div id='messages' data-messages='[\"Start Time: Saturday, December 9, 2023 11:32:40 AM\",\"Succeeded at Saturday, December 9, 2023 11:32:43 AM (Elapsed Time: 2.71 seconds)\"]' data-show='true'><div id = 'default' /></div></div>"
      ],
      "text/plain": [
       "<Result '..\\\\01_Data\\\\02_Processed\\\\CarolinianProfile.csv'>"
      ]
     },
     "execution_count": 7,
     "metadata": {},
     "output_type": "execute_result"
    }
   ],
   "source": [
    "#using 3D Analyst toolbox to create the stack profile\n",
    "#Documentation: https://pro.arcgis.com/en/pro-app/latest/tool-reference/3d-analyst/stack-profile.htm\n",
    "arcpy.ddd.StackProfile(\n",
    "    input_fl,\n",
    "    profile_tg,\n",
    "    output_tbl,\n",
    "    graphName\n",
    ")"
   ]
  },
  {
   "cell_type": "markdown",
   "id": "1fd030a9",
   "metadata": {},
   "source": [
    "# Inflection Point Search with Pandas"
   ]
  },
  {
   "cell_type": "code",
   "execution_count": 15,
   "id": "39c13147",
   "metadata": {},
   "outputs": [],
   "source": [
    "import pandas as pd\n",
    "import matplotlib.pyplot as plt"
   ]
  },
  {
   "cell_type": "code",
   "execution_count": 13,
   "id": "d5010a42",
   "metadata": {},
   "outputs": [],
   "source": [
    "#read in the profile \n",
    "CaroProfile_df = pd.read_csv(\"../01_Data/02_Processed/CarolinianProfile.csv\")"
   ]
  },
  {
   "cell_type": "code",
   "execution_count": 14,
   "id": "0d7f450f",
   "metadata": {},
   "outputs": [
    {
     "name": "stdout",
     "output_type": "stream",
     "text": [
      "<class 'pandas.core.frame.DataFrame'>\n",
      "RangeIndex: 1436 entries, 0 to 1435\n",
      "Data columns (total 9 columns):\n",
      " #   Column      Non-Null Count  Dtype  \n",
      "---  ------      --------------  -----  \n",
      " 0   OBJECTID    1436 non-null   int64  \n",
      " 1   FIRST_DIST  1436 non-null   float64\n",
      " 2   FIRST_Z     1436 non-null   float64\n",
      " 3   SEC_DIST    0 non-null      float64\n",
      " 4   SEC_Z       0 non-null      float64\n",
      " 5   LINE_ID     1436 non-null   int64  \n",
      " 6   SRC_TYPE    1436 non-null   object \n",
      " 7   SRC_ID      0 non-null      float64\n",
      " 8   SRC_NAME    1436 non-null   object \n",
      "dtypes: float64(5), int64(2), object(2)\n",
      "memory usage: 101.1+ KB\n"
     ]
    }
   ],
   "source": [
    "CaroProfile_df.info()"
   ]
  },
  {
   "cell_type": "code",
   "execution_count": 26,
   "id": "c3c21813",
   "metadata": {},
   "outputs": [
    {
     "data": {
      "text/plain": [
       "[<matplotlib.lines.Line2D at 0x29c49a78a60>]"
      ]
     },
     "execution_count": 26,
     "metadata": {},
     "output_type": "execute_result"
    },
    {
     "data": {
      "image/png": "[encoded data removed]",
      "text/plain": [
       "<Figure size 640x480 with 1 Axes>"
      ]
     },
     "metadata": {},
     "output_type": "display_data"
    }
   ],
   "source": [
    "#draw the profile graph with the data\n",
    "hz_dist = CaroProfile_df['FIRST_DIST'][0:1423]\n",
    "elevation = CaroProfile_df['FIRST_Z'][0:1423]\n",
    "plt.plot(hz_dist, elevation)"
   ]
  },
  {
   "cell_type": "code",
   "execution_count": 23,
   "id": "e1671083",
   "metadata": {},
   "outputs": [
    {
     "data": {
      "text/plain": [
       "1416      123.2562\n",
       "1417      118.7118\n",
       "1418      115.2971\n",
       "1419      114.7600\n",
       "1420      114.7118\n",
       "1421      114.4212\n",
       "1422      113.8231\n",
       "1423      113.4791\n",
       "1424     2437.8621\n",
       "1425     6347.4718\n",
       "1426     8799.6999\n",
       "1427     9888.6802\n",
       "1428    10357.9658\n",
       "1429    10799.6344\n",
       "1430    11594.6104\n",
       "1431    11907.9823\n",
       "1432    12762.6820\n",
       "1433    12892.6467\n",
       "1434    13320.0438\n",
       "1435    13332.3398\n",
       "Name: FIRST_Z, dtype: float64"
      ]
     },
     "execution_count": 23,
     "metadata": {},
     "output_type": "execute_result"
    }
   ],
   "source": [
    "elevation.tail(20)"
   ]
  },
  {
   "cell_type": "code",
   "execution_count": 25,
   "id": "524a1bc1",
   "metadata": {},
   "outputs": [
    {
     "data": {
      "text/plain": [
       "0       173.9273\n",
       "1       174.4623\n",
       "2       175.9295\n",
       "3       176.0730\n",
       "4       178.0809\n",
       "          ...   \n",
       "1418    115.2971\n",
       "1419    114.7600\n",
       "1420    114.7118\n",
       "1421    114.4212\n",
       "1422    113.8231\n",
       "Name: FIRST_Z, Length: 1423, dtype: float64"
      ]
     },
     "execution_count": 25,
     "metadata": {},
     "output_type": "execute_result"
    }
   ],
   "source": [
    "CaroProfile_df['FIRST_Z'][0:1423]"
   ]
  },
  {
   "cell_type": "code",
   "execution_count": 10,
   "id": "1f16c190",
   "metadata": {},
   "outputs": [],
   "source": [
    "#discern all the infelction points and segment the polyline with them"
   ]
  }
 ],
 "metadata": {
  "kernelspec": {
   "display_name": "Python 3 (ipykernel)",
   "language": "python",
   "name": "python3"
  },
  "language_info": {
   "codemirror_mode": {
    "name": "ipython",
    "version": 3
   },
   "file_extension": ".py",
   "mimetype": "text/x-python",
   "name": "python",
   "nbconvert_exporter": "python",
   "pygments_lexer": "ipython3",
   "version": "3.9.16"
  }
 },
 "nbformat": 4,
 "nbformat_minor": 5
}
