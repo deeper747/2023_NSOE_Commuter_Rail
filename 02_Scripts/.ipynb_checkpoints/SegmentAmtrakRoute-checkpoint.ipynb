{
 "cells": [
  {
   "cell_type": "markdown",
   "id": "9fe277ae",
   "metadata": {},
   "source": [
    "# Graphing Elevation Profile with ArcGIS Python API"
   ]
  },
  {
   "cell_type": "markdown",
   "id": "e2cb06a2",
   "metadata": {},
   "source": [
    "Contributors: Jia-Shen Tsai, Wendy Wen, Zhengqi Jiao, Miaojun Pang,\n",
    "Alexander Yoshizumi\n",
    "\n",
    "Last Updated: 2023-12-9\n",
    "\n",
    "Description: When run, script segment the amtrak route by elevation"
   ]
  },
  {
   "cell_type": "markdown",
   "id": "091e2118",
   "metadata": {},
   "source": [
    "# NC Routes Data Exploration"
   ]
  },
  {
   "cell_type": "code",
   "execution_count": 4,
   "id": "29148300",
   "metadata": {},
   "outputs": [],
   "source": [
    "import arcpy\n",
    "#pip install geopandas\n",
    "import geopandas as gpd"
   ]
  },
  {
   "cell_type": "code",
   "execution_count": 5,
   "id": "124ef364",
   "metadata": {},
   "outputs": [],
   "source": [
    "# Set workspace\n",
    "arcpy.env.workspace = \"../01_Data/01_Source/\"\n",
    "arcpy.env.overwriteOutput = True"
   ]
  },
  {
   "cell_type": "code",
   "execution_count": 3,
   "id": "91652965",
   "metadata": {},
   "outputs": [],
   "source": [
    "nc_tracks_gdf = gpd.read_file(\"../01_Data/02_Processed/Amtrak_Route_NC.shp\")"
   ]
  },
  {
   "cell_type": "code",
   "execution_count": 4,
   "id": "9f680b2e",
   "metadata": {},
   "outputs": [
    {
     "data": {
      "text/html": [
       "<div>\n",
       "<style scoped>\n",
       "    .dataframe tbody tr th:only-of-type {\n",
       "        vertical-align: middle;\n",
       "    }\n",
       "\n",
       "    .dataframe tbody tr th {\n",
       "        vertical-align: top;\n",
       "    }\n",
       "\n",
       "    .dataframe thead th {\n",
       "        text-align: right;\n",
       "    }\n",
       "</style>\n",
       "<table border=\"1\" class=\"dataframe\">\n",
       "  <thead>\n",
       "    <tr style=\"text-align: right;\">\n",
       "      <th></th>\n",
       "      <th>objectid</th>\n",
       "      <th>name</th>\n",
       "      <th>shape_leng</th>\n",
       "      <th>shape_le_1</th>\n",
       "      <th>shape_Le_2</th>\n",
       "      <th>geometry</th>\n",
       "    </tr>\n",
       "  </thead>\n",
       "  <tbody>\n",
       "    <tr>\n",
       "      <th>0</th>\n",
       "      <td>3</td>\n",
       "      <td>Auto Train</td>\n",
       "      <td>1.474024e+06</td>\n",
       "      <td>1.474024e+06</td>\n",
       "      <td>14.082956</td>\n",
       "      <td>MULTILINESTRING ((-79.31281 34.50569, -79.3128...</td>\n",
       "    </tr>\n",
       "    <tr>\n",
       "      <th>1</th>\n",
       "      <td>31</td>\n",
       "      <td>Silver_Service/Palmetto</td>\n",
       "      <td>2.984346e+06</td>\n",
       "      <td>2.984346e+06</td>\n",
       "      <td>29.026557</td>\n",
       "      <td>MULTILINESTRING ((-79.31281 34.50569, -79.3128...</td>\n",
       "    </tr>\n",
       "    <tr>\n",
       "      <th>2</th>\n",
       "      <td>37</td>\n",
       "      <td>Crescent</td>\n",
       "      <td>2.230998e+06</td>\n",
       "      <td>2.230998e+06</td>\n",
       "      <td>22.651323</td>\n",
       "      <td>MULTILINESTRING ((-81.45065 35.16823, -81.4499...</td>\n",
       "    </tr>\n",
       "    <tr>\n",
       "      <th>3</th>\n",
       "      <td>46</td>\n",
       "      <td>Carolinian</td>\n",
       "      <td>0.000000e+00</td>\n",
       "      <td>8.715546e+05</td>\n",
       "      <td>8.745682</td>\n",
       "      <td>MULTILINESTRING ((-78.25935 35.54110, -78.2566...</td>\n",
       "    </tr>\n",
       "    <tr>\n",
       "      <th>4</th>\n",
       "      <td>47</td>\n",
       "      <td>Piedmont</td>\n",
       "      <td>0.000000e+00</td>\n",
       "      <td>2.882651e+05</td>\n",
       "      <td>2.980784</td>\n",
       "      <td>MULTILINESTRING ((-80.82749 35.23796, -80.8273...</td>\n",
       "    </tr>\n",
       "  </tbody>\n",
       "</table>\n",
       "</div>"
      ],
      "text/plain": [
       "   objectid                     name    shape_leng    shape_le_1  shape_Le_2  \\\n",
       "0         3               Auto Train  1.474024e+06  1.474024e+06   14.082956   \n",
       "1        31  Silver_Service/Palmetto  2.984346e+06  2.984346e+06   29.026557   \n",
       "2        37                 Crescent  2.230998e+06  2.230998e+06   22.651323   \n",
       "3        46               Carolinian  0.000000e+00  8.715546e+05    8.745682   \n",
       "4        47                 Piedmont  0.000000e+00  2.882651e+05    2.980784   \n",
       "\n",
       "                                            geometry  \n",
       "0  MULTILINESTRING ((-79.31281 34.50569, -79.3128...  \n",
       "1  MULTILINESTRING ((-79.31281 34.50569, -79.3128...  \n",
       "2  MULTILINESTRING ((-81.45065 35.16823, -81.4499...  \n",
       "3  MULTILINESTRING ((-78.25935 35.54110, -78.2566...  \n",
       "4  MULTILINESTRING ((-80.82749 35.23796, -80.8273...  "
      ]
     },
     "execution_count": 4,
     "metadata": {},
     "output_type": "execute_result"
    }
   ],
   "source": [
    "nc_tracks_gdf.head()"
   ]
  },
  {
   "cell_type": "code",
   "execution_count": 5,
   "id": "03cbf621",
   "metadata": {},
   "outputs": [
    {
     "data": {
      "text/plain": [
       "geopandas.geodataframe.GeoDataFrame"
      ]
     },
     "execution_count": 5,
     "metadata": {},
     "output_type": "execute_result"
    }
   ],
   "source": [
    "mask = (nc_tracks_gdf[\"name\"] == 'Carolinian')\n",
    "carolinian_gdf = nc_tracks_gdf[mask]\n",
    "type(carolinian_gdf)"
   ]
  },
  {
   "cell_type": "markdown",
   "id": "e56dc469",
   "metadata": {},
   "source": [
    "# Drawing profile with arcpy 3D tool"
   ]
  },
  {
   "cell_type": "markdown",
   "id": "5b996522",
   "metadata": {},
   "source": [
    "- Select by Attributes\n",
    "    - Branch = {MAIN, NC, A, S, T, CRAGGY MTN}\n",
    "- Export Features\n",
    "- Buffer\n",
    "    - 50 meters (this leads to multiple line segments, we could try a larger buffer), dissolve\n",
    "- Polygon to Centerline\n",
    "- Profile"
   ]
  },
  {
   "cell_type": "code",
   "execution_count": 8,
   "id": "791e180c",
   "metadata": {},
   "outputs": [
    {
     "data": {
      "text/html": [
       "<div class='gpresult'><h2>Messages</h2><div id='messages' data-messages='[\"Start Time: Sunday, December 10, 2023 11:39:19 PM\",\"Succeeded at Sunday, December 10, 2023 11:39:20 PM (Elapsed Time: 0.96 seconds)\"]' data-show='true'><div id = 'default' /></div></div>"
      ],
      "text/plain": [
       "<Result '..\\\\01_Data\\\\02_Processed\\\\temp\\\\Carolinian_buffer.shp'>"
      ]
     },
     "execution_count": 8,
     "metadata": {},
     "output_type": "execute_result"
    }
   ],
   "source": [
    "arcpy.analysis.Buffer(\n",
    "    in_features = \"../01_Data/01_Source/Amtrak_Routes/Carolinian.shp\",\n",
    "    out_feature_class = \"../01_Data/02_Processed/temp/Carolinian_buffer\",\n",
    "    buffer_distance_or_field = \"50 Meters\",\n",
    "    line_side = \"FULL\",\n",
    "    line_end_type = \"ROUND\",\n",
    "    dissolve_option = \"ALL\",\n",
    "    dissolve_field = None,\n",
    "    method = \"PLANAR\"\n",
    ")"
   ]
  },
  {
   "cell_type": "code",
   "execution_count": 9,
   "id": "e276c028",
   "metadata": {},
   "outputs": [
    {
     "ename": "ExecuteError",
     "evalue": "Failed to execute. Parameters are not valid.\nERROR 000824: The tool is not licensed.\nFailed to execute (PolygonToCenterline).\n",
     "output_type": "error",
     "traceback": [
      "\u001b[1;31m---------------------------------------------------------------------------\u001b[0m",
      "\u001b[1;31mExecuteError\u001b[0m                              Traceback (most recent call last)",
      "\u001b[1;32m~\\AppData\\Local\\Temp\\ipykernel_11296\\3235481047.py\u001b[0m in \u001b[0;36m<cell line: 1>\u001b[1;34m()\u001b[0m\n\u001b[1;32m----> 1\u001b[1;33m arcpy.topographic.PolygonToCenterline(\n\u001b[0m\u001b[0;32m      2\u001b[0m     \u001b[0min_features\u001b[0m\u001b[1;33m=\u001b[0m\u001b[1;34m\"../01_Data/02_Processed/temp/Carolinian_buffer\"\u001b[0m\u001b[1;33m,\u001b[0m\u001b[1;33m\u001b[0m\u001b[1;33m\u001b[0m\u001b[0m\n\u001b[0;32m      3\u001b[0m     \u001b[0mout_feature_class\u001b[0m\u001b[1;33m=\u001b[0m\u001b[1;34m\"../01_Data/02_Processed/temp/Carolinian_new\"\u001b[0m\u001b[1;33m\u001b[0m\u001b[1;33m\u001b[0m\u001b[0m\n\u001b[0;32m      4\u001b[0m )\n",
      "\u001b[1;32mC:\\Program Files\\ArcGIS\\Pro\\Resources\\ArcPy\\arcpy\\topographic.py\u001b[0m in \u001b[0;36mPolygonToCenterline\u001b[1;34m(in_features, out_feature_class, connecting_features)\u001b[0m\n\u001b[0;32m   1884\u001b[0m         \u001b[1;32mreturn\u001b[0m \u001b[0mretval\u001b[0m\u001b[1;33m\u001b[0m\u001b[1;33m\u001b[0m\u001b[0m\n\u001b[0;32m   1885\u001b[0m     \u001b[1;32mexcept\u001b[0m \u001b[0mException\u001b[0m \u001b[1;32mas\u001b[0m \u001b[0me\u001b[0m\u001b[1;33m:\u001b[0m\u001b[1;33m\u001b[0m\u001b[1;33m\u001b[0m\u001b[0m\n\u001b[1;32m-> 1886\u001b[1;33m         \u001b[1;32mraise\u001b[0m \u001b[0me\u001b[0m\u001b[1;33m\u001b[0m\u001b[1;33m\u001b[0m\u001b[0m\n\u001b[0m\u001b[0;32m   1887\u001b[0m \u001b[1;33m\u001b[0m\u001b[0m\n\u001b[0;32m   1888\u001b[0m \u001b[1;33m@\u001b[0m\u001b[0mgptooldoc\u001b[0m\u001b[1;33m(\u001b[0m\u001b[1;34m'RemoveSmallLines_topographic'\u001b[0m\u001b[1;33m,\u001b[0m \u001b[1;32mNone\u001b[0m\u001b[1;33m)\u001b[0m\u001b[1;33m\u001b[0m\u001b[1;33m\u001b[0m\u001b[0m\n",
      "\u001b[1;32mC:\\Program Files\\ArcGIS\\Pro\\Resources\\ArcPy\\arcpy\\topographic.py\u001b[0m in \u001b[0;36mPolygonToCenterline\u001b[1;34m(in_features, out_feature_class, connecting_features)\u001b[0m\n\u001b[0;32m   1881\u001b[0m     \u001b[1;32mfrom\u001b[0m \u001b[0marcpy\u001b[0m\u001b[1;33m.\u001b[0m\u001b[0marcobjects\u001b[0m\u001b[1;33m.\u001b[0m\u001b[0marcobjectconversion\u001b[0m \u001b[1;32mimport\u001b[0m \u001b[0mconvertArcObjectToPythonObject\u001b[0m\u001b[1;33m\u001b[0m\u001b[1;33m\u001b[0m\u001b[0m\n\u001b[0;32m   1882\u001b[0m     \u001b[1;32mtry\u001b[0m\u001b[1;33m:\u001b[0m\u001b[1;33m\u001b[0m\u001b[1;33m\u001b[0m\u001b[0m\n\u001b[1;32m-> 1883\u001b[1;33m         \u001b[0mretval\u001b[0m \u001b[1;33m=\u001b[0m \u001b[0mconvertArcObjectToPythonObject\u001b[0m\u001b[1;33m(\u001b[0m\u001b[0mgp\u001b[0m\u001b[1;33m.\u001b[0m\u001b[0mPolygonToCenterline_topographic\u001b[0m\u001b[1;33m(\u001b[0m\u001b[1;33m*\u001b[0m\u001b[0mgp_fixargs\u001b[0m\u001b[1;33m(\u001b[0m\u001b[1;33m(\u001b[0m\u001b[0min_features\u001b[0m\u001b[1;33m,\u001b[0m \u001b[0mout_feature_class\u001b[0m\u001b[1;33m,\u001b[0m \u001b[0mconnecting_features\u001b[0m\u001b[1;33m)\u001b[0m\u001b[1;33m,\u001b[0m \u001b[1;32mTrue\u001b[0m\u001b[1;33m)\u001b[0m\u001b[1;33m)\u001b[0m\u001b[1;33m)\u001b[0m\u001b[1;33m\u001b[0m\u001b[1;33m\u001b[0m\u001b[0m\n\u001b[0m\u001b[0;32m   1884\u001b[0m         \u001b[1;32mreturn\u001b[0m \u001b[0mretval\u001b[0m\u001b[1;33m\u001b[0m\u001b[1;33m\u001b[0m\u001b[0m\n\u001b[0;32m   1885\u001b[0m     \u001b[1;32mexcept\u001b[0m \u001b[0mException\u001b[0m \u001b[1;32mas\u001b[0m \u001b[0me\u001b[0m\u001b[1;33m:\u001b[0m\u001b[1;33m\u001b[0m\u001b[1;33m\u001b[0m\u001b[0m\n",
      "\u001b[1;32mC:\\Program Files\\ArcGIS\\Pro\\Resources\\ArcPy\\arcpy\\geoprocessing\\_base.py\u001b[0m in \u001b[0;36m<lambda>\u001b[1;34m(*args)\u001b[0m\n\u001b[0;32m    510\u001b[0m         \u001b[0mval\u001b[0m \u001b[1;33m=\u001b[0m \u001b[0mgetattr\u001b[0m\u001b[1;33m(\u001b[0m\u001b[0mself\u001b[0m\u001b[1;33m.\u001b[0m\u001b[0m_gp\u001b[0m\u001b[1;33m,\u001b[0m \u001b[0mattr\u001b[0m\u001b[1;33m)\u001b[0m\u001b[1;33m\u001b[0m\u001b[1;33m\u001b[0m\u001b[0m\n\u001b[0;32m    511\u001b[0m         \u001b[1;32mif\u001b[0m \u001b[0mcallable\u001b[0m\u001b[1;33m(\u001b[0m\u001b[0mval\u001b[0m\u001b[1;33m)\u001b[0m\u001b[1;33m:\u001b[0m\u001b[1;33m\u001b[0m\u001b[1;33m\u001b[0m\u001b[0m\n\u001b[1;32m--> 512\u001b[1;33m             \u001b[1;32mreturn\u001b[0m \u001b[1;32mlambda\u001b[0m \u001b[1;33m*\u001b[0m\u001b[0margs\u001b[0m\u001b[1;33m:\u001b[0m \u001b[0mval\u001b[0m\u001b[1;33m(\u001b[0m\u001b[1;33m*\u001b[0m\u001b[0mgp_fixargs\u001b[0m\u001b[1;33m(\u001b[0m\u001b[0margs\u001b[0m\u001b[1;33m,\u001b[0m \u001b[1;32mTrue\u001b[0m\u001b[1;33m)\u001b[0m\u001b[1;33m)\u001b[0m\u001b[1;33m\u001b[0m\u001b[1;33m\u001b[0m\u001b[0m\n\u001b[0m\u001b[0;32m    513\u001b[0m         \u001b[1;32melse\u001b[0m\u001b[1;33m:\u001b[0m\u001b[1;33m\u001b[0m\u001b[1;33m\u001b[0m\u001b[0m\n\u001b[0;32m    514\u001b[0m             \u001b[1;32mreturn\u001b[0m \u001b[0mconvertArcObjectToPythonObject\u001b[0m\u001b[1;33m(\u001b[0m\u001b[0mval\u001b[0m\u001b[1;33m)\u001b[0m\u001b[1;33m\u001b[0m\u001b[1;33m\u001b[0m\u001b[0m\n",
      "\u001b[1;31mExecuteError\u001b[0m: Failed to execute. Parameters are not valid.\nERROR 000824: The tool is not licensed.\nFailed to execute (PolygonToCenterline).\n"
     ]
    }
   ],
   "source": [
    "arcpy.topographic.PolygonToCenterline(\n",
    "    in_features=\"../01_Data/02_Processed/temp/Carolinian_buffer\", \n",
    "    out_feature_class=\"../01_Data/02_Processed/temp/Carolinian_new\"\n",
    ")"
   ]
  },
  {
   "cell_type": "code",
   "execution_count": 36,
   "id": "5d560908",
   "metadata": {},
   "outputs": [],
   "source": [
    "input_fl = \"../01_Data/02_Processed/carolinian.shp\"\n",
    "profile_tg = \"NC_DEM.tiff\"\n",
    "output_tbl = \"../01_Data/02_Processed/CarolinianProfile.dbf\"\n",
    "graphName = \"Carolinian Profile Graph\"                         #The output graph is not supported in Pro (sad)"
   ]
  },
  {
   "cell_type": "code",
   "execution_count": 37,
   "id": "b0f717f3",
   "metadata": {},
   "outputs": [
    {
     "data": {
      "text/html": [
       "<div class='gpresult'><h2>Messages</h2><div id='messages' data-messages='[\"Start Time: Saturday, December 9, 2023 12:30:34 PM\",\"Succeeded at Saturday, December 9, 2023 12:30:34 PM (Elapsed Time: 0.47 seconds)\"]' data-show='true'><div id = 'default' /></div></div>"
      ],
      "text/plain": [
       "<Result '..\\\\01_Data\\\\02_Processed\\\\CarolinianProfile.dbf'>"
      ]
     },
     "execution_count": 37,
     "metadata": {},
     "output_type": "execute_result"
    }
   ],
   "source": [
    "#using 3D Analyst toolbox to create the stack profile\n",
    "#Documentation: https://pro.arcgis.com/en/pro-app/latest/tool-reference/3d-analyst/stack-profile.htm\n",
    "arcpy.ddd.StackProfile(\n",
    "    input_fl,\n",
    "    profile_tg,\n",
    "    output_tbl,\n",
    "    graphName\n",
    ")"
   ]
  },
  {
   "cell_type": "markdown",
   "id": "663390c3",
   "metadata": {},
   "source": [
    "# Inflection Point Search with Pandas"
   ]
  },
  {
   "cell_type": "code",
   "execution_count": 3,
   "id": "f95229ac",
   "metadata": {},
   "outputs": [],
   "source": [
    "import pandas as pd\n",
    "import matplotlib.pyplot as plt"
   ]
  },
  {
   "cell_type": "code",
   "execution_count": 13,
   "id": "d5010a42",
   "metadata": {},
   "outputs": [],
   "source": [
    "#read in the profile \n",
    "CaroProfile_df = pd.read_csv(\"../01_Data/02_Processed/CarolinianProfile.csv\")"
   ]
  },
  {
   "cell_type": "code",
   "execution_count": 14,
   "id": "b84e23f5",
   "metadata": {},
   "outputs": [
    {
     "name": "stdout",
     "output_type": "stream",
     "text": [
      "<class 'pandas.core.frame.DataFrame'>\n",
      "RangeIndex: 1436 entries, 0 to 1435\n",
      "Data columns (total 9 columns):\n",
      " #   Column      Non-Null Count  Dtype  \n",
      "---  ------      --------------  -----  \n",
      " 0   OBJECTID    1436 non-null   int64  \n",
      " 1   FIRST_DIST  1436 non-null   float64\n",
      " 2   FIRST_Z     1436 non-null   float64\n",
      " 3   SEC_DIST    0 non-null      float64\n",
      " 4   SEC_Z       0 non-null      float64\n",
      " 5   LINE_ID     1436 non-null   int64  \n",
      " 6   SRC_TYPE    1436 non-null   object \n",
      " 7   SRC_ID      0 non-null      float64\n",
      " 8   SRC_NAME    1436 non-null   object \n",
      "dtypes: float64(5), int64(2), object(2)\n",
      "memory usage: 101.1+ KB\n"
     ]
    }
   ],
   "source": [
    "CaroProfile_df.info()"
   ]
  },
  {
   "cell_type": "code",
   "execution_count": 26,
   "id": "c3c21813",
   "metadata": {},
   "outputs": [
    {
     "data": {
      "text/plain": [
       "[<matplotlib.lines.Line2D at 0x29c49a78a60>]"
      ]
     },
     "execution_count": 26,
     "metadata": {},
     "output_type": "execute_result"
    },
    {
     "data": {
      "image/png": "[encoded data removed]",
      "text/plain": [
       "<Figure size 640x480 with 1 Axes>"
      ]
     },
     "metadata": {},
     "output_type": "display_data"
    }
   ],
   "source": [
    "#draw the profile graph with the data\n",
    "hz_dist = CaroProfile_df['FIRST_DIST'][0:1423]\n",
    "elevation = CaroProfile_df['FIRST_Z'][0:1423]\n",
    "plt.plot(hz_dist, elevation)"
   ]
  },
  {
   "cell_type": "code",
   "execution_count": 34,
   "id": "bf0f7738",
   "metadata": {},
   "outputs": [
    {
     "data": {
      "image/png": "[encoded data removed]",
      "text/plain": [
       "<Figure size 640x480 with 1 Axes>"
      ]
     },
     "metadata": {},
     "output_type": "display_data"
    }
   ],
   "source": [
    "hz_dist.hist();"
   ]
  },
  {
   "cell_type": "code",
   "execution_count": 35,
   "id": "de0d6cc9",
   "metadata": {},
   "outputs": [
    {
     "data": {
      "text/plain": [
       "OBJECTID         1\n",
       "FIRST_DIST    1432\n",
       "FIRST_Z       1431\n",
       "SEC_DIST         0\n",
       "SEC_Z            0\n",
       "LINE_ID          1\n",
       "SRC_TYPE         1\n",
       "SRC_ID           0\n",
       "SRC_NAME         1\n",
       "dtype: int64"
      ]
     },
     "execution_count": 35,
     "metadata": {},
     "output_type": "execute_result"
    }
   ],
   "source": [
    "CaroProfile_df.nunique()"
   ]
  },
  {
   "cell_type": "code",
   "execution_count": 28,
   "id": "2e217a71",
   "metadata": {},
   "outputs": [
    {
     "name": "stdout",
     "output_type": "stream",
     "text": [
      "[3665.474652862185, 37156.10058170703]\n"
     ]
    }
   ],
   "source": [
    "import collections\n",
    "print([item for item, count in collections.Counter(hz_dist).items() if count > 1])"
   ]
  },
  {
   "cell_type": "code",
   "execution_count": 29,
   "id": "a982f59f",
   "metadata": {},
   "outputs": [],
   "source": [
    "seen = set()\n",
    "uniq = []\n",
    "for x in hz_dist:\n",
    "    if x not in seen:\n",
    "        uniq.append(x)\n",
    "        seen.add(x)"
   ]
  },
  {
   "cell_type": "code",
   "execution_count": 25,
   "id": "e0a03e6a",
   "metadata": {},
   "outputs": [
    {
     "data": {
      "text/plain": [
       "0       173.9273\n",
       "1       174.4623\n",
       "2       175.9295\n",
       "3       176.0730\n",
       "4       178.0809\n",
       "          ...   \n",
       "1418    115.2971\n",
       "1419    114.7600\n",
       "1420    114.7118\n",
       "1421    114.4212\n",
       "1422    113.8231\n",
       "Name: FIRST_Z, Length: 1423, dtype: float64"
      ]
     },
     "execution_count": 25,
     "metadata": {},
     "output_type": "execute_result"
    }
   ],
   "source": [
    "CaroProfile_df['FIRST_Z'][0:1423]"
   ]
  },
  {
   "cell_type": "code",
   "execution_count": 10,
   "id": "1f16c190",
   "metadata": {},
   "outputs": [],
   "source": [
    "#discern all the infelction points and segment the polyline with them"
   ]
  }
 ],
 "metadata": {
  "kernelspec": {
   "display_name": "Python 3 (ipykernel)",
   "language": "python",
   "name": "python3"
  },
  "language_info": {
   "codemirror_mode": {
    "name": "ipython",
    "version": 3
   },
   "file_extension": ".py",
   "mimetype": "text/x-python",
   "name": "python",
   "nbconvert_exporter": "python",
   "pygments_lexer": "ipython3",
   "version": "3.9.16"
  }
 },
 "nbformat": 4,
 "nbformat_minor": 5
}
